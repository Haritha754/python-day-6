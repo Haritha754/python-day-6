{
  "nbformat": 4,
  "nbformat_minor": 0,
  "metadata": {
    "colab": {
      "provenance": []
    },
    "kernelspec": {
      "name": "python3",
      "display_name": "Python 3"
    },
    "language_info": {
      "name": "python"
    }
  },
  "cells": [
    {
      "cell_type": "markdown",
      "source": [],
      "metadata": {
        "id": "P22qT2a8T3oV"
      }
    },
    {
      "cell_type": "markdown",
      "source": [
        "The provided code stub reads two integers,and,from STDIN.\n",
        "\n",
        "Add logic to print two lines. The first line should contain the result of integer division,a//b.The second line should contain the result of float division,a/b.\n",
        "\n",
        "No rounding or formatting is necessary.\n",
        "\n",
        "Example:\n",
        "The result of the integer division .\n",
        "The result of the float division is .\n",
        "Print:\n",
        "\n",
        "0\n",
        "0.6\n",
        "Input Format:\n",
        "The first line contains the first integer, .\n",
        "The second line contains the second integer, .\n",
        "\n",
        "Output Format:\n",
        "Print the two lines as described above.\n",
        "\n",
        "Sample Input:0\n",
        "4\n",
        "3\n",
        "Sample Output:0\n",
        "1\n",
        "1.33333333333"
      ],
      "metadata": {
        "id": "P65Y-1pvT3rz"
      }
    },
    {
      "cell_type": "code",
      "source": [
        "a = int(input())\n",
        "b = int(input())\n",
        "integer_division_result = a // b\n",
        "float_division_result = a / b\n",
        "print(integer_division_result)\n",
        "print(float_division_result)\n"
      ],
      "metadata": {
        "colab": {
          "base_uri": "https://localhost:8080/"
        },
        "id": "-wJVw5S1Uc8Q",
        "outputId": "b7c9c09c-e47e-4203-be6d-72df26bba646"
      },
      "execution_count": 2,
      "outputs": [
        {
          "output_type": "stream",
          "name": "stdout",
          "text": [
            "4\n",
            "3\n",
            "1\n",
            "1.3333333333333333\n"
          ]
        }
      ]
    }
  ]
}